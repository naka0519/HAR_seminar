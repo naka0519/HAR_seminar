{
 "cells": [
  {
   "cell_type": "code",
   "execution_count": 22,
   "metadata": {},
   "outputs": [
    {
     "name": "stdout",
     "output_type": "stream",
     "text": [
      "(178, 13)\n",
      "(178,) ['class_0' 'class_1' 'class_2']\n",
      "Best Parameters: {'colsample_bytree': 0.8, 'learning_rate': 0.001, 'max_depth': 5, 'n_estimators': 100, 'subsample': 1.0}\n",
      "Best Score: 0.9858156028368793\n",
      "Accuracy: 0.9722222222222222\n",
      "od280/od315_of_diluted_wines    0.353045\n",
      "color_intensity                 0.193652\n",
      "proline                         0.157545\n",
      "flavanoids                      0.077928\n",
      "alcohol                         0.061694\n",
      "total_phenols                   0.049474\n",
      "hue                             0.035294\n",
      "magnesium                       0.017033\n",
      "alcalinity_of_ash               0.016824\n",
      "malic_acid                      0.015773\n",
      "dtype: float32\n"
     ]
    }
   ],
   "source": [
    "import numpy as np\n",
    "from sklearn.datasets import load_iris\n",
    "from sklearn.datasets import load_wine\n",
    "from sklearn.model_selection import train_test_split\n",
    "import pandas as pd\n",
    "import xgboost as xgb\n",
    "from xgboost import XGBClassifier\n",
    "from sklearn.model_selection import GridSearchCV\n",
    "#from sklearn.ensemble import RandomForestClassifier\n",
    "from sklearn.metrics import accuracy_score\n",
    "#from matplotlib import pyplot as plt\n",
    "\n",
    "# wineデータセットのロード\n",
    "wine = load_wine()\n",
    "X = wine.data\n",
    "y = wine.target\n",
    "print(X.shape)\n",
    "print(y.shape, wine.target_names)\n",
    "\n",
    "# データセットをトレーニングセットとテストセットに分割\n",
    "X_train, X_test, y_train, y_test = train_test_split(X, y, test_size=0.2, random_state=42)\n",
    "\n",
    "# XGBoostモデルの定義と学習\n",
    "model = XGBClassifier()\n",
    "\n",
    "# グリッドサーチのパラメータグリッドの設定\n",
    "param_grid = {\n",
    "    'max_depth': [3, 5, 7],\n",
    "    'learning_rate': [0.1, 0.01, 0.001],\n",
    "    'n_estimators': [100, 200, 300],\n",
    "    'subsample': [0.8, 1.0],\n",
    "    'colsample_bytree': [0.8, 1.0]\n",
    "}\n",
    "\n",
    "# グリッドサーチの実行\n",
    "grid_search = GridSearchCV(model, param_grid=param_grid, cv=3, scoring='accuracy') # cv:交差検証の回数 scoring:評価方法\n",
    "grid_search.fit(X_train, y_train)\n",
    "\n",
    "# テストセットでの推定\n",
    "y_pred = grid_search.predict(X_test)\n",
    "\n",
    "# 最適なパラメータとスコアの表示\n",
    "print(\"Best Parameters:\", grid_search.best_params_)\n",
    "print(\"Best Score:\", grid_search.best_score_)\n",
    "# testデータに対する精度の評価\n",
    "accuracy = accuracy_score(y_test, y_pred)\n",
    "print(\"Accuracy:\", accuracy)\n",
    "\n",
    "# 特徴量ごとの重要度の可視化\n",
    "importances = pd.Series(index=wine.feature_names, data=grid_search.best_estimator_.feature_importances_)\n",
    "print(importances.sort_values(ascending=False).head(10))\n"
   ]
  },
  {
   "cell_type": "code",
   "execution_count": 33,
   "metadata": {},
   "outputs": [
    {
     "name": "stdout",
     "output_type": "stream",
     "text": [
      "accuracy:0.9722222222222222\n"
     ]
    }
   ],
   "source": [
    "# MLflowによる推定結果の管理\n",
    "import mlflow\n",
    "import mlflow.xgboost\n",
    "import numpy as np\n",
    "from sklearn.model_selection import train_test_split\n",
    "from xgboost import XGBClassifier\n",
    "from sklearn.metrics import accuracy_score\n",
    "\n",
    "# MLflowのトラッキングサーバーに接続\n",
    "mlflow.set_tracking_uri(\"http://127.0.0.1:5000\") # 個人開発ならlocalhostを指定\n",
    "\n",
    "# 実験の開始\n",
    "mlflow.set_experiment(\"templete_xgboost\") # 実験名を記入\n",
    "\n",
    "# wineデータセットのロード\n",
    "wine = load_wine()\n",
    "X = wine.data\n",
    "y = wine.target\n",
    "\n",
    "# データセットをトレーニングセットとテストセットに分割\n",
    "X_train, X_test, y_train, y_test = train_test_split(X, y, test_size=0.2, random_state=42)\n",
    "\n",
    "# XGBoostモデルの定義\n",
    "model = XGBClassifier()\n",
    "\n",
    "# MLflowで結果を記録\n",
    "with mlflow.start_run():\n",
    "    # 学習と予測\n",
    "    model.fit(X_train, y_train)\n",
    "    y_pred = model.predict(X_test)\n",
    "\n",
    "    # 精度の計算\n",
    "    accuracy = accuracy_score(y_test, y_pred)\n",
    "    print(\"accuracy:{}\".format(accuracy))\n",
    "    params = model.get_params()\n",
    "\n",
    "    # パラメータとメトリクスの記録\n",
    "    mlflow.log_params(params) # モデルパラメータの記録\n",
    "    mlflow.log_metric(\"accuracy\", accuracy) # 精度の記録\n",
    "    \n",
    "    # モデルの保存\n",
    "    mlflow.xgboost.log_model(model, \"xgboost_model\")\n"
   ]
  },
  {
   "cell_type": "code",
   "execution_count": null,
   "metadata": {},
   "outputs": [],
   "source": []
  }
 ],
 "metadata": {
  "kernelspec": {
   "display_name": "jupyter",
   "language": "python",
   "name": "python3"
  },
  "language_info": {
   "codemirror_mode": {
    "name": "ipython",
    "version": 3
   },
   "file_extension": ".py",
   "mimetype": "text/x-python",
   "name": "python",
   "nbconvert_exporter": "python",
   "pygments_lexer": "ipython3",
   "version": "3.9.16"
  },
  "orig_nbformat": 4
 },
 "nbformat": 4,
 "nbformat_minor": 2
}
